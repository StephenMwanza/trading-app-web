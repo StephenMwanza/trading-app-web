{
 "cells": [
  {
   "cell_type": "markdown",
   "id": "fe62ee22",
   "metadata": {},
   "source": [
    "# Technical indicators \n",
    "    This notebook calculates all the technical indicators for a given set of data "
   ]
  },
  {
   "cell_type": "code",
   "execution_count": 1,
   "id": "42bb99b9",
   "metadata": {},
   "outputs": [],
   "source": [
    "#Import libraries \n",
    "import pandas as pd\n",
    "import matplotlib.pyplot as plt"
   ]
  },
  {
   "cell_type": "code",
   "execution_count": 2,
   "id": "fcaa3f2e",
   "metadata": {},
   "outputs": [
    {
     "data": {
      "text/html": [
       "<div>\n",
       "<style scoped>\n",
       "    .dataframe tbody tr th:only-of-type {\n",
       "        vertical-align: middle;\n",
       "    }\n",
       "\n",
       "    .dataframe tbody tr th {\n",
       "        vertical-align: top;\n",
       "    }\n",
       "\n",
       "    .dataframe thead th {\n",
       "        text-align: right;\n",
       "    }\n",
       "</style>\n",
       "<table border=\"1\" class=\"dataframe\">\n",
       "  <thead>\n",
       "    <tr style=\"text-align: right;\">\n",
       "      <th></th>\n",
       "      <th>Open</th>\n",
       "      <th>High</th>\n",
       "      <th>Low</th>\n",
       "      <th>Close</th>\n",
       "    </tr>\n",
       "  </thead>\n",
       "  <tbody>\n",
       "    <tr>\n",
       "      <th>30/12/2022 12:00</th>\n",
       "      <td>33102.4</td>\n",
       "      <td>33113.9</td>\n",
       "      <td>33069.9</td>\n",
       "      <td>33079.4</td>\n",
       "    </tr>\n",
       "    <tr>\n",
       "      <th>30/12/2022 13:00</th>\n",
       "      <td>33078.9</td>\n",
       "      <td>33086.9</td>\n",
       "      <td>33043.9</td>\n",
       "      <td>33067.4</td>\n",
       "    </tr>\n",
       "    <tr>\n",
       "      <th>30/12/2022 14:00</th>\n",
       "      <td>33066.9</td>\n",
       "      <td>33107.5</td>\n",
       "      <td>32909</td>\n",
       "      <td>32993</td>\n",
       "    </tr>\n",
       "    <tr>\n",
       "      <th>30/12/2022 15:00</th>\n",
       "      <td>32993.5</td>\n",
       "      <td>33074.5</td>\n",
       "      <td>32930</td>\n",
       "      <td>32977</td>\n",
       "    </tr>\n",
       "    <tr>\n",
       "      <th>30/12/2022 16:00</th>\n",
       "      <td>32977.5</td>\n",
       "      <td>33016.6</td>\n",
       "      <td>32907.5</td>\n",
       "      <td>33002.6</td>\n",
       "    </tr>\n",
       "  </tbody>\n",
       "</table>\n",
       "</div>"
      ],
      "text/plain": [
       "                     Open     High      Low    Close\n",
       "30/12/2022 12:00  33102.4  33113.9  33069.9  33079.4\n",
       "30/12/2022 13:00  33078.9  33086.9  33043.9  33067.4\n",
       "30/12/2022 14:00  33066.9  33107.5    32909    32993\n",
       "30/12/2022 15:00  32993.5  33074.5    32930    32977\n",
       "30/12/2022 16:00  32977.5  33016.6  32907.5  33002.6"
      ]
     },
     "execution_count": 2,
     "metadata": {},
     "output_type": "execute_result"
    }
   ],
   "source": [
    "# get data \n",
    "chart_data = pd.read_csv('sample-data/test-data.csv', header=[0], index_col=[0], parse_dates=[0])\n",
    "# Drop the all \"ask\" prices\n",
    "chart_data = chart_data.drop(columns=['ask','ask.1', 'ask.2', 'ask.3'])\n",
    "\n",
    "# Rename the headers\n",
    "chart_data.rename(columns = {'bid':'Open', 'bid.1':'High', 'bid.2':'Low', 'bid.3':'Close'}, inplace =True)\n",
    "\n",
    "# Drop the first row of data \n",
    "prices=chart_data.drop(chart_data.index[0])\n",
    "\n",
    "prices.head()"
   ]
  },
  {
   "cell_type": "markdown",
   "id": "e12263f0",
   "metadata": {},
   "source": [
    "# Moving average \n",
    "50 point and 200 point moving averages "
   ]
  },
  {
   "cell_type": "code",
   "execution_count": 4,
   "id": "be6a26fa",
   "metadata": {},
   "outputs": [
    {
     "ename": "UnboundLocalError",
     "evalue": "local variable 'prices' referenced before assignment",
     "output_type": "error",
     "traceback": [
      "\u001b[0;31m---------------------------------------------------------------------------\u001b[0m",
      "\u001b[0;31mUnboundLocalError\u001b[0m                         Traceback (most recent call last)",
      "\u001b[0;32m/tmp/ipykernel_126/2829730318.py\u001b[0m in \u001b[0;36m<module>\u001b[0;34m\u001b[0m\n\u001b[1;32m     16\u001b[0m \u001b[0;31m# Compute the 50-day SMA\u001b[0m\u001b[0;34m\u001b[0m\u001b[0;34m\u001b[0m\u001b[0m\n\u001b[1;32m     17\u001b[0m \u001b[0mn\u001b[0m \u001b[0;34m=\u001b[0m \u001b[0;36m50\u001b[0m\u001b[0;34m\u001b[0m\u001b[0;34m\u001b[0m\u001b[0m\n\u001b[0;32m---> 18\u001b[0;31m \u001b[0mSMA\u001b[0m \u001b[0;34m=\u001b[0m \u001b[0mSMA\u001b[0m\u001b[0;34m(\u001b[0m\u001b[0mprices\u001b[0m\u001b[0;34m,\u001b[0m\u001b[0mn\u001b[0m\u001b[0;34m)\u001b[0m\u001b[0;34m\u001b[0m\u001b[0;34m\u001b[0m\u001b[0m\n\u001b[0m\u001b[1;32m     19\u001b[0m \u001b[0mSMA\u001b[0m \u001b[0;34m=\u001b[0m \u001b[0mSMA\u001b[0m\u001b[0;34m.\u001b[0m\u001b[0mdropna\u001b[0m\u001b[0;34m(\u001b[0m\u001b[0;34m)\u001b[0m\u001b[0;34m\u001b[0m\u001b[0;34m\u001b[0m\u001b[0m\n\u001b[1;32m     20\u001b[0m \u001b[0mSMA\u001b[0m \u001b[0;34m=\u001b[0m \u001b[0mSMA\u001b[0m\u001b[0;34m[\u001b[0m\u001b[0;34m'SMA'\u001b[0m\u001b[0;34m]\u001b[0m\u001b[0;34m\u001b[0m\u001b[0;34m\u001b[0m\u001b[0m\n",
      "\u001b[0;32m/tmp/ipykernel_126/2829730318.py\u001b[0m in \u001b[0;36mSMA\u001b[0;34m(data, ndays)\u001b[0m\n\u001b[1;32m      1\u001b[0m \u001b[0;31m# Simple Moving Average\u001b[0m\u001b[0;34m\u001b[0m\u001b[0;34m\u001b[0m\u001b[0m\n\u001b[1;32m      2\u001b[0m \u001b[0;32mdef\u001b[0m \u001b[0mSMA\u001b[0m\u001b[0;34m(\u001b[0m\u001b[0mdata\u001b[0m\u001b[0;34m,\u001b[0m \u001b[0mndays\u001b[0m\u001b[0;34m)\u001b[0m\u001b[0;34m:\u001b[0m\u001b[0;34m\u001b[0m\u001b[0;34m\u001b[0m\u001b[0m\n\u001b[0;32m----> 3\u001b[0;31m     \u001b[0mSMA\u001b[0m \u001b[0;34m=\u001b[0m \u001b[0mpd\u001b[0m\u001b[0;34m.\u001b[0m\u001b[0mSeries\u001b[0m\u001b[0;34m(\u001b[0m\u001b[0mprices\u001b[0m\u001b[0;34m[\u001b[0m\u001b[0;34m'Close'\u001b[0m\u001b[0;34m]\u001b[0m\u001b[0;34m.\u001b[0m\u001b[0mrolling\u001b[0m\u001b[0;34m(\u001b[0m\u001b[0mndays\u001b[0m\u001b[0;34m)\u001b[0m\u001b[0;34m.\u001b[0m\u001b[0mmean\u001b[0m\u001b[0;34m(\u001b[0m\u001b[0;34m)\u001b[0m\u001b[0;34m,\u001b[0m \u001b[0mname\u001b[0m \u001b[0;34m=\u001b[0m \u001b[0;34m'SMA'\u001b[0m\u001b[0;34m)\u001b[0m\u001b[0;34m\u001b[0m\u001b[0;34m\u001b[0m\u001b[0m\n\u001b[0m\u001b[1;32m      4\u001b[0m     \u001b[0mprices\u001b[0m \u001b[0;34m=\u001b[0m \u001b[0mprices\u001b[0m\u001b[0;34m.\u001b[0m\u001b[0mjoin\u001b[0m\u001b[0;34m(\u001b[0m\u001b[0mSMA\u001b[0m\u001b[0;34m)\u001b[0m\u001b[0;34m\u001b[0m\u001b[0;34m\u001b[0m\u001b[0m\n\u001b[1;32m      5\u001b[0m     \u001b[0;32mreturn\u001b[0m \u001b[0mprices\u001b[0m\u001b[0;34m\u001b[0m\u001b[0;34m\u001b[0m\u001b[0m\n",
      "\u001b[0;31mUnboundLocalError\u001b[0m: local variable 'prices' referenced before assignment"
     ]
    }
   ],
   "source": [
    "# Simple Moving Average \n",
    "def SMA(data, ndays): \n",
    "    SMA = pd.Series(prices['Close'].rolling(ndays).mean(), name = 'SMA') \n",
    "    prices = prices.join(SMA) \n",
    "    return prices\n",
    "\n",
    "# Exponentially-weighted Moving Average \n",
    "def EWMA(data, ndays): \n",
    "    EMA = pd.Series(prices['Close'].ewm(span = ndays, min_periods = ndays - 1).mean(), \n",
    "                 name = 'EWMA_' + str(ndays)) \n",
    "    prices = prices.join(EMA) \n",
    "    return prices\n",
    "\n",
    "close = prices['Close']\n",
    "\n",
    "# Compute the 50-day SMA\n",
    "n = 50\n",
    "SMA = SMA(prices,n)\n",
    "SMA = SMA.dropna()\n",
    "SMA = SMA['SMA']\n",
    "\n",
    "# Compute the 200-day EWMA\n",
    "ew = 200\n",
    "EWMA = EWMA(prices,ew)\n",
    "EWMA = EWMA.dropna()\n",
    "EWMA = EWMA['EWMA_200']\n",
    "\n",
    "# Plotting the stock Price Series chart and Moving Averages below\n",
    "plt.figure(figsize=(10,7))\n",
    "\n",
    "# Set the title and axis labels\n",
    "plt.title('Moving Average')\n",
    "plt.xlabel('Date')\n",
    "plt.ylabel('Price')\n",
    "\n",
    "# Plot close price and moving averages\n",
    "plt.plot(data['Close'],lw=1, label='Close Price')\n",
    "plt.plot(SMA,'g',lw=1, label='50-day SMA')\n",
    "plt.plot(EWMA,'r', lw=1, label='200-day EMA')\n",
    "\n",
    "# Add a legend to the axis\n",
    "plt.legend()\n",
    "\n",
    "plt.show()"
   ]
  },
  {
   "cell_type": "code",
   "execution_count": null,
   "id": "08ca01f8",
   "metadata": {},
   "outputs": [],
   "source": []
  }
 ],
 "metadata": {
  "kernelspec": {
   "display_name": "Python 3 (ipykernel)",
   "language": "python",
   "name": "python3"
  },
  "language_info": {
   "codemirror_mode": {
    "name": "ipython",
    "version": 3
   },
   "file_extension": ".py",
   "mimetype": "text/x-python",
   "name": "python",
   "nbconvert_exporter": "python",
   "pygments_lexer": "ipython3",
   "version": "3.9.13"
  }
 },
 "nbformat": 4,
 "nbformat_minor": 5
}
